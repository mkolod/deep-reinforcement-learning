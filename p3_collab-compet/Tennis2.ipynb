{
 "cells": [
  {
   "cell_type": "markdown",
   "metadata": {},
   "source": [
    "# Collaboration and Competition\n",
    "\n",
    "---\n",
    "\n",
    "In this notebook, you will learn how to use the Unity ML-Agents environment for the third project of the [Deep Reinforcement Learning Nanodegree](https://www.udacity.com/course/deep-reinforcement-learning-nanodegree--nd893) program.\n",
    "\n",
    "### 1. Start the Environment\n",
    "\n",
    "We begin by importing the necessary packages.  If the code cell below returns an error, please revisit the project instructions to double-check that you have installed [Unity ML-Agents](https://github.com/Unity-Technologies/ml-agents/blob/master/docs/Installation.md) and [NumPy](http://www.numpy.org/)."
   ]
  },
  {
   "cell_type": "code",
   "execution_count": 1,
   "metadata": {},
   "outputs": [],
   "source": [
    "import numpy as np\n",
    "import random\n",
    "import time\n",
    "\n",
    "from collections import deque\n",
    "from unityagents import UnityEnvironment\n",
    "from tensorboardX import SummaryWriter"
   ]
  },
  {
   "cell_type": "code",
   "execution_count": 2,
   "metadata": {},
   "outputs": [],
   "source": [
    "from tensorboardX import SummaryWriter"
   ]
  },
  {
   "cell_type": "code",
   "execution_count": 3,
   "metadata": {},
   "outputs": [],
   "source": [
    "writer = SummaryWriter('tensorboard_logs/run_{}'.format(time.ctime().replace(\" \", \"_\").replace(\":\", \"_\")))"
   ]
  },
  {
   "cell_type": "markdown",
   "metadata": {},
   "source": [
    "Next, we will start the environment!  **_Before running the code cell below_**, change the `file_name` parameter to match the location of the Unity environment that you downloaded.\n",
    "\n",
    "- **Mac**: `\"path/to/Tennis.app\"`\n",
    "- **Windows** (x86): `\"path/to/Tennis_Windows_x86/Tennis.exe\"`\n",
    "- **Windows** (x86_64): `\"path/to/Tennis_Windows_x86_64/Tennis.exe\"`\n",
    "- **Linux** (x86): `\"path/to/Tennis_Linux/Tennis.x86\"`\n",
    "- **Linux** (x86_64): `\"path/to/Tennis_Linux/Tennis.x86_64\"`\n",
    "- **Linux** (x86, headless): `\"path/to/Tennis_Linux_NoVis/Tennis.x86\"`\n",
    "- **Linux** (x86_64, headless): `\"path/to/Tennis_Linux_NoVis/Tennis.x86_64\"`\n",
    "\n",
    "For instance, if you are using a Mac, then you downloaded `Tennis.app`.  If this file is in the same folder as the notebook, then the line below should appear as follows:\n",
    "```\n",
    "env = UnityEnvironment(file_name=\"Tennis.app\")\n",
    "```"
   ]
  },
  {
   "cell_type": "code",
   "execution_count": 4,
   "metadata": {},
   "outputs": [
    {
     "name": "stderr",
     "output_type": "stream",
     "text": [
      "INFO:unityagents:\n",
      "'Academy' started successfully!\n",
      "Unity Academy name: Academy\n",
      "        Number of Brains: 1\n",
      "        Number of External Brains : 1\n",
      "        Lesson number : 0\n",
      "        Reset Parameters :\n",
      "\t\t\n",
      "Unity brain name: TennisBrain\n",
      "        Number of Visual Observations (per agent): 0\n",
      "        Vector Observation space type: continuous\n",
      "        Vector Observation space size (per agent): 8\n",
      "        Number of stacked Vector Observation: 3\n",
      "        Vector Action space type: continuous\n",
      "        Vector Action space size (per agent): 2\n",
      "        Vector Action descriptions: , \n"
     ]
    }
   ],
   "source": [
    "env = UnityEnvironment(file_name=\"./Tennis_Linux/Tennis.x86_64\")"
   ]
  },
  {
   "cell_type": "markdown",
   "metadata": {},
   "source": [
    "Environments contain **_brains_** which are responsible for deciding the actions of their associated agents. Here we check for the first brain available, and set it as the default brain we will be controlling from Python."
   ]
  },
  {
   "cell_type": "code",
   "execution_count": 5,
   "metadata": {},
   "outputs": [],
   "source": [
    "# get the default brain\n",
    "brain_name = env.brain_names[0]\n",
    "brain = env.brains[brain_name]"
   ]
  },
  {
   "cell_type": "markdown",
   "metadata": {},
   "source": [
    "### 2. Examine the State and Action Spaces\n",
    "\n",
    "In this environment, two agents control rackets to bounce a ball over a net. If an agent hits the ball over the net, it receives a reward of +0.1.  If an agent lets a ball hit the ground or hits the ball out of bounds, it receives a reward of -0.01.  Thus, the goal of each agent is to keep the ball in play.\n",
    "\n",
    "The observation space consists of 8 variables corresponding to the position and velocity of the ball and racket. Two continuous actions are available, corresponding to movement toward (or away from) the net, and jumping. \n",
    "\n",
    "Run the code cell below to print some information about the environment."
   ]
  },
  {
   "cell_type": "code",
   "execution_count": 6,
   "metadata": {},
   "outputs": [
    {
     "name": "stdout",
     "output_type": "stream",
     "text": [
      "Number of agents: 2\n",
      "Size of each action: 2\n",
      "There are 2 agents. Each observes a state with length: 24\n",
      "The state for the first agent looks like: [ 0.          0.          0.          0.          0.          0.\n",
      "  0.          0.          0.          0.          0.          0.\n",
      "  0.          0.          0.          0.         -6.65278625 -1.5\n",
      " -0.          0.          6.83172083  6.         -0.          0.        ]\n"
     ]
    }
   ],
   "source": [
    "# reset the environment\n",
    "env_info = env.reset(train_mode=True)[brain_name]\n",
    "\n",
    "# number of agents \n",
    "num_agents = len(env_info.agents)\n",
    "print('Number of agents:', num_agents)\n",
    "\n",
    "# size of each action\n",
    "action_size = brain.vector_action_space_size\n",
    "print('Size of each action:', action_size)\n",
    "\n",
    "# examine the state space \n",
    "states = env_info.vector_observations\n",
    "state_size = states.shape[1]\n",
    "print('There are {} agents. Each observes a state with length: {}'.format(states.shape[0], state_size))\n",
    "print('The state for the first agent looks like:', states[0])"
   ]
  },
  {
   "cell_type": "markdown",
   "metadata": {},
   "source": [
    "### 3. Take Random Actions in the Environment\n",
    "\n",
    "In the next code cell, you will learn how to use the Python API to control the agents and receive feedback from the environment.\n",
    "\n",
    "Once this cell is executed, you will watch the agents' performance, if they select actions at random with each time step.  A window should pop up that allows you to observe the agents.\n",
    "\n",
    "Of course, as part of the project, you'll have to change the code so that the agents are able to use their experiences to gradually choose better actions when interacting with the environment!"
   ]
  },
  {
   "cell_type": "code",
   "execution_count": 7,
   "metadata": {},
   "outputs": [],
   "source": [
    "# for i in range(1, 6):                                      # play game for 5 episodes\n",
    "#     env_info = env.reset(train_mode=False)[brain_name]     # reset the environment    \n",
    "#     states = env_info.vector_observations                  # get the current state (for each agent)\n",
    "#     scores = np.zeros(num_agents)                          # initialize the score (for each agent)\n",
    "#     while True:\n",
    "#         actions = np.random.randn(num_agents, action_size) # select an action (for each agent)\n",
    "#         actions = np.clip(actions, -1, 1)                  # all actions between -1 and 1\n",
    "#         env_info = env.step(actions)[brain_name]           # send all actions to tne environment\n",
    "#         next_states = env_info.vector_observations         # get next state (for each agent)\n",
    "#         rewards = env_info.rewards                         # get reward (for each agent)\n",
    "#         dones = env_info.local_done                        # see if episode finished\n",
    "#         scores += env_info.rewards                         # update the score (for each agent)\n",
    "#         states = next_states                               # roll over states to next time step\n",
    "#         if np.any(dones):                                  # exit loop if episode finished\n",
    "#             break\n",
    "#     print('Score (max over agents) from episode {}: {}'.format(i, np.max(scores)))"
   ]
  },
  {
   "cell_type": "markdown",
   "metadata": {},
   "source": [
    "When finished, you can close the environment."
   ]
  },
  {
   "cell_type": "markdown",
   "metadata": {},
   "source": [
    "### 4. It's Your Turn!\n",
    "\n",
    "Now it's your turn to train your own agent to solve the environment!  When training the environment, set `train_mode=True`, so that the line for resetting the environment looks like the following:\n",
    "```python\n",
    "env_info = env.reset(train_mode=True)[brain_name]\n",
    "```"
   ]
  },
  {
   "cell_type": "code",
   "execution_count": 8,
   "metadata": {},
   "outputs": [],
   "source": [
    "import torch\n",
    "import torch.nn as nn\n",
    "import torch.nn.functional as F"
   ]
  },
  {
   "cell_type": "code",
   "execution_count": 9,
   "metadata": {},
   "outputs": [],
   "source": [
    "# del Agent"
   ]
  },
  {
   "cell_type": "code",
   "execution_count": 10,
   "metadata": {},
   "outputs": [],
   "source": [
    "from ddpg_agent import Agent, OUNoise"
   ]
  },
  {
   "cell_type": "code",
   "execution_count": 11,
   "metadata": {},
   "outputs": [],
   "source": [
    "device = torch.device('cuda:0') if torch.cuda.is_available() else torch.device('cpu')\n",
    "\n",
    "init_noise = 5.0\n",
    "end_noise = 1.0\n",
    "noise_annealing = 1.0 - 1e-4\n",
    "\n",
    "lr_actor=1e-3,\n",
    "lr_critic=1e-3\n",
    "batch_size = 1024\n",
    "num_updates = 10\n",
    "update_every = 10\n",
    "seed0 = 42\n",
    "seed1 = 42\n",
    "\n",
    "agent0 = Agent(state_size,\n",
    "               action_size,\n",
    "               device, \n",
    "               0, \n",
    "               seed=seed0, init_noise=init_noise, end_noise=end_noise, noise_annealing=noise_annealing,\n",
    "               writer=writer, num_updates=1, update_every=1,\n",
    "               batch_size=batch_size)\n",
    "agent1 = Agent(\n",
    "    state_size,\n",
    "    action_size,\n",
    "    device,\n",
    "    1,\n",
    "    seed=seed1, init_noise=init_noise, end_noise=end_noise, noise_annealing=noise_annealing,\n",
    "    writer=writer, num_updates=1, update_every=1,\n",
    "    batch_size=batch_size)"
   ]
  },
  {
   "cell_type": "code",
   "execution_count": 12,
   "metadata": {},
   "outputs": [],
   "source": [
    "env_info = env.reset(train_mode=False)[brain_name]\n",
    "states = env_info.vector_observations"
   ]
  },
  {
   "cell_type": "code",
   "execution_count": 13,
   "metadata": {},
   "outputs": [
    {
     "data": {
      "text/plain": [
       "array([[ 0.10596927, -0.02421552],\n",
       "       [ 0.08684427,  0.03648327]], dtype=float32)"
      ]
     },
     "execution_count": 13,
     "metadata": {},
     "output_type": "execute_result"
    }
   ],
   "source": [
    "agent0.act(states)"
   ]
  },
  {
   "cell_type": "code",
   "execution_count": 14,
   "metadata": {},
   "outputs": [],
   "source": [
    "def maddpg(num_episodes=1000, max_epi_len=1000):\n",
    "    all_scores = []\n",
    "    rolling_scores = deque(maxlen=100)\n",
    "    solved = False\n",
    "    \n",
    "    for episode in range(num_episodes):\n",
    "        env_info = env.reset(train_mode=True)[brain_name]\n",
    "#         agent0.reset()\n",
    "#         agent1.reset()\n",
    "        scores = np.zeros(2)\n",
    "        for period in range(max_epi_len):            \n",
    "            states = np.reshape(env_info.vector_observations, (1,-1))\n",
    "            action0 = agent0.act(states)\n",
    "            action1 = agent1.act(states)\n",
    "            # Check if this is valid\n",
    "            actions = np.vstack([action0, action1])\n",
    "            env_info = env.step(actions)[brain_name]\n",
    "            next_states = env_info.vector_observations                 \n",
    "            next_states = np.reshape(env_info.vector_observations, (1,-1))\n",
    "            actions = np.concatenate([action0, action1], axis=1)\n",
    "            rewards = env_info.rewards\n",
    "            scores += rewards\n",
    "            dones = env_info.local_done       \n",
    "            agent0.step(states, actions, rewards[0], next_states, dones)\n",
    "            agent1.step(states, actions, rewards[1], next_states, dones)\n",
    "            if all(dones):\n",
    "                break\n",
    "        rolling_scores.append(np.max(scores))\n",
    "        if episode >= 10 and episode % 10 == 0:\n",
    "            print(\"Episode {}, mean score over 100 episodes: {}\".format(episode, np.mean(rolling_scores)))\n",
    "#        print(dones)\n",
    "        "
   ]
  },
  {
   "cell_type": "code",
   "execution_count": 15,
   "metadata": {
    "scrolled": false
   },
   "outputs": [
    {
     "name": "stdout",
     "output_type": "stream",
     "text": [
      "Episode 10, mean score over 100 episodes: 0.027272727679122578\n",
      "Episode 20, mean score over 100 episodes: 0.014285714498588018\n",
      "Episode 30, mean score over 100 episodes: 0.012903225998724661\n",
      "Episode 40, mean score over 100 episodes: 0.014634146559529188\n",
      "Episode 50, mean score over 100 episodes: 0.013725490400604173\n",
      "Episode 60, mean score over 100 episodes: 0.01311475429378572\n",
      "Episode 70, mean score over 100 episodes: 0.011267605801703225\n",
      "Episode 80, mean score over 100 episodes: 0.009876543357048505\n",
      "Episode 90, mean score over 100 episodes: 0.008791208922208011\n",
      "Episode 100, mean score over 100 episodes: 0.00800000011920929\n",
      "Episode 110, mean score over 100 episodes: 0.005000000074505806\n",
      "Episode 120, mean score over 100 episodes: 0.005000000074505806\n",
      "Episode 130, mean score over 100 episodes: 0.004000000059604645\n",
      "Episode 140, mean score over 100 episodes: 0.0020000000298023225\n",
      "Episode 150, mean score over 100 episodes: 0.0010000000149011613\n",
      "Episode 160, mean score over 100 episodes: 0.0\n",
      "Episode 170, mean score over 100 episodes: 0.0\n",
      "Episode 180, mean score over 100 episodes: 0.0\n",
      "Episode 190, mean score over 100 episodes: 0.0\n",
      "Episode 200, mean score over 100 episodes: 0.0\n",
      "Episode 210, mean score over 100 episodes: 0.0\n",
      "Episode 220, mean score over 100 episodes: 0.0\n",
      "Episode 230, mean score over 100 episodes: 0.0\n",
      "Episode 240, mean score over 100 episodes: 0.0\n",
      "Episode 250, mean score over 100 episodes: 0.0\n",
      "Episode 260, mean score over 100 episodes: 0.0\n",
      "Episode 270, mean score over 100 episodes: 0.0\n",
      "Episode 280, mean score over 100 episodes: 0.0\n",
      "Episode 290, mean score over 100 episodes: 0.0\n",
      "Episode 300, mean score over 100 episodes: 0.0\n",
      "Episode 310, mean score over 100 episodes: 0.0\n",
      "Episode 320, mean score over 100 episodes: 0.0\n",
      "Episode 330, mean score over 100 episodes: 0.0\n",
      "Episode 340, mean score over 100 episodes: 0.0\n",
      "Episode 350, mean score over 100 episodes: 0.0\n",
      "Episode 360, mean score over 100 episodes: 0.0\n",
      "Episode 370, mean score over 100 episodes: 0.0\n",
      "Episode 380, mean score over 100 episodes: 0.0\n",
      "Episode 390, mean score over 100 episodes: 0.0\n",
      "Episode 400, mean score over 100 episodes: 0.0\n",
      "Episode 410, mean score over 100 episodes: 0.0\n",
      "Episode 420, mean score over 100 episodes: 0.0\n",
      "Episode 430, mean score over 100 episodes: 0.0\n",
      "Episode 440, mean score over 100 episodes: 0.0\n",
      "Episode 450, mean score over 100 episodes: 0.0\n",
      "Episode 460, mean score over 100 episodes: 0.0\n",
      "Episode 470, mean score over 100 episodes: 0.0\n",
      "Episode 480, mean score over 100 episodes: 0.0\n",
      "Episode 490, mean score over 100 episodes: 0.0\n",
      "Episode 500, mean score over 100 episodes: 0.0\n",
      "Episode 510, mean score over 100 episodes: 0.0\n",
      "Episode 520, mean score over 100 episodes: 0.0\n",
      "Episode 530, mean score over 100 episodes: 0.0\n",
      "Episode 540, mean score over 100 episodes: 0.0\n",
      "Episode 550, mean score over 100 episodes: 0.0\n",
      "Episode 560, mean score over 100 episodes: 0.0\n",
      "Episode 570, mean score over 100 episodes: 0.0\n",
      "Episode 580, mean score over 100 episodes: 0.0\n",
      "Episode 590, mean score over 100 episodes: 0.0\n",
      "Episode 600, mean score over 100 episodes: 0.0\n",
      "Episode 610, mean score over 100 episodes: 0.0\n",
      "Episode 620, mean score over 100 episodes: 0.0\n",
      "Episode 630, mean score over 100 episodes: 0.0\n",
      "Episode 640, mean score over 100 episodes: 0.0\n",
      "Episode 650, mean score over 100 episodes: 0.0\n",
      "Episode 660, mean score over 100 episodes: 0.0\n",
      "Episode 670, mean score over 100 episodes: 0.0\n",
      "Episode 680, mean score over 100 episodes: 0.0\n",
      "Episode 690, mean score over 100 episodes: 0.0\n",
      "Episode 700, mean score over 100 episodes: 0.0\n",
      "Episode 710, mean score over 100 episodes: 0.0\n",
      "Episode 720, mean score over 100 episodes: 0.0\n",
      "Episode 730, mean score over 100 episodes: 0.0\n",
      "Episode 740, mean score over 100 episodes: 0.0\n",
      "Episode 750, mean score over 100 episodes: 0.0010000000149011613\n",
      "Episode 760, mean score over 100 episodes: 0.00490000007674098\n",
      "Episode 770, mean score over 100 episodes: 0.010800000168383122\n",
      "Episode 780, mean score over 100 episodes: 0.012800000198185444\n",
      "Episode 790, mean score over 100 episodes: 0.01680000025779009\n",
      "Episode 800, mean score over 100 episodes: 0.01780000027269125\n",
      "Episode 810, mean score over 100 episodes: 0.019800000302493573\n",
      "Episode 820, mean score over 100 episodes: 0.022800000347197057\n",
      "Episode 830, mean score over 100 episodes: 0.027800000421702862\n",
      "Episode 840, mean score over 100 episodes: 0.03180000048130751\n",
      "Episode 850, mean score over 100 episodes: 0.03280000049620867\n",
      "Episode 860, mean score over 100 episodes: 0.02890000043436885\n",
      "Episode 870, mean score over 100 episodes: 0.023000000342726708\n",
      "Episode 880, mean score over 100 episodes: 0.02400000035762787\n",
      "Episode 890, mean score over 100 episodes: 0.021000000312924386\n",
      "Episode 900, mean score over 100 episodes: 0.02400000035762787\n",
      "Episode 910, mean score over 100 episodes: 0.02600000038743019\n",
      "Episode 920, mean score over 100 episodes: 0.02400000035762787\n",
      "Episode 930, mean score over 100 episodes: 0.02400000035762787\n",
      "Episode 940, mean score over 100 episodes: 0.022000000327825547\n",
      "Episode 950, mean score over 100 episodes: 0.021000000312924386\n",
      "Episode 960, mean score over 100 episodes: 0.022000000327825547\n",
      "Episode 970, mean score over 100 episodes: 0.02600000038743019\n",
      "Episode 980, mean score over 100 episodes: 0.027000000402331352\n",
      "Episode 990, mean score over 100 episodes: 0.02600000038743019\n"
     ]
    }
   ],
   "source": [
    "maddpg()"
   ]
  },
  {
   "cell_type": "code",
   "execution_count": 16,
   "metadata": {},
   "outputs": [
    {
     "data": {
      "text/plain": [
       "['_SummaryWriter__append_to_scalar_dict',\n",
       " '__class__',\n",
       " '__delattr__',\n",
       " '__dict__',\n",
       " '__dir__',\n",
       " '__doc__',\n",
       " '__enter__',\n",
       " '__eq__',\n",
       " '__exit__',\n",
       " '__format__',\n",
       " '__ge__',\n",
       " '__getattribute__',\n",
       " '__gt__',\n",
       " '__hash__',\n",
       " '__init__',\n",
       " '__init_subclass__',\n",
       " '__le__',\n",
       " '__lt__',\n",
       " '__module__',\n",
       " '__ne__',\n",
       " '__new__',\n",
       " '__reduce__',\n",
       " '__reduce_ex__',\n",
       " '__repr__',\n",
       " '__setattr__',\n",
       " '__sizeof__',\n",
       " '__str__',\n",
       " '__subclasshook__',\n",
       " '__weakref__',\n",
       " '_check_caffe2',\n",
       " '_encode',\n",
       " 'add_audio',\n",
       " 'add_custom_scalars',\n",
       " 'add_custom_scalars_marginchart',\n",
       " 'add_custom_scalars_multilinechart',\n",
       " 'add_embedding',\n",
       " 'add_figure',\n",
       " 'add_graph',\n",
       " 'add_histogram',\n",
       " 'add_histogram_raw',\n",
       " 'add_image',\n",
       " 'add_image_with_boxes',\n",
       " 'add_images',\n",
       " 'add_onnx_graph',\n",
       " 'add_pr_curve',\n",
       " 'add_pr_curve_raw',\n",
       " 'add_scalar',\n",
       " 'add_scalars',\n",
       " 'add_text',\n",
       " 'add_video',\n",
       " 'all_writers',\n",
       " 'caffe2_enabled',\n",
       " 'close',\n",
       " 'default_bins',\n",
       " 'export_scalars_to_json',\n",
       " 'file_writer',\n",
       " 'get_file_writer',\n",
       " 'kwargs',\n",
       " 'log_dir',\n",
       " 'scalar_dict']"
      ]
     },
     "execution_count": 16,
     "metadata": {},
     "output_type": "execute_result"
    }
   ],
   "source": [
    "dir(writer)"
   ]
  },
  {
   "cell_type": "code",
   "execution_count": null,
   "metadata": {},
   "outputs": [],
   "source": []
  }
 ],
 "metadata": {
  "kernelspec": {
   "display_name": "Python 3",
   "language": "python",
   "name": "python3"
  },
  "language_info": {
   "codemirror_mode": {
    "name": "ipython",
    "version": 3
   },
   "file_extension": ".py",
   "mimetype": "text/x-python",
   "name": "python",
   "nbconvert_exporter": "python",
   "pygments_lexer": "ipython3",
   "version": "3.6.8"
  }
 },
 "nbformat": 4,
 "nbformat_minor": 2
}
