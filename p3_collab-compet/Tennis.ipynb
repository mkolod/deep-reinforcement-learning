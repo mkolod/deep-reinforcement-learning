{
 "cells": [
  {
   "cell_type": "markdown",
   "metadata": {},
   "source": [
    "# Collaboration and Competition\n",
    "\n",
    "---\n",
    "\n",
    "In this notebook, you will learn how to use the Unity ML-Agents environment for the third project of the [Deep Reinforcement Learning Nanodegree](https://www.udacity.com/course/deep-reinforcement-learning-nanodegree--nd893) program.\n",
    "\n",
    "### 1. Start the Environment\n",
    "\n",
    "We begin by importing the necessary packages.  If the code cell below returns an error, please revisit the project instructions to double-check that you have installed [Unity ML-Agents](https://github.com/Unity-Technologies/ml-agents/blob/master/docs/Installation.md) and [NumPy](http://www.numpy.org/)."
   ]
  },
  {
   "cell_type": "code",
   "execution_count": 1,
   "metadata": {},
   "outputs": [],
   "source": [
    "from collections import deque\n",
    "from unityagents import UnityEnvironment\n",
    "\n",
    "import numpy as np\n",
    "import matplotlib.pyplot as plt\n",
    "import pandas as pd\n",
    "\n",
    "import torch"
   ]
  },
  {
   "cell_type": "markdown",
   "metadata": {},
   "source": [
    "Next, we will start the environment!  **_Before running the code cell below_**, change the `file_name` parameter to match the location of the Unity environment that you downloaded.\n",
    "\n",
    "- **Mac**: `\"path/to/Tennis.app\"`\n",
    "- **Windows** (x86): `\"path/to/Tennis_Windows_x86/Tennis.exe\"`\n",
    "- **Windows** (x86_64): `\"path/to/Tennis_Windows_x86_64/Tennis.exe\"`\n",
    "- **Linux** (x86): `\"path/to/Tennis_Linux/Tennis.x86\"`\n",
    "- **Linux** (x86_64): `\"path/to/Tennis_Linux/Tennis.x86_64\"`\n",
    "- **Linux** (x86, headless): `\"path/to/Tennis_Linux_NoVis/Tennis.x86\"`\n",
    "- **Linux** (x86_64, headless): `\"path/to/Tennis_Linux_NoVis/Tennis.x86_64\"`\n",
    "\n",
    "For instance, if you are using a Mac, then you downloaded `Tennis.app`.  If this file is in the same folder as the notebook, then the line below should appear as follows:\n",
    "```\n",
    "env = UnityEnvironment(file_name=\"Tennis.app\")\n",
    "```"
   ]
  },
  {
   "cell_type": "code",
   "execution_count": 2,
   "metadata": {},
   "outputs": [
    {
     "name": "stderr",
     "output_type": "stream",
     "text": [
      "INFO:unityagents:\n",
      "'Academy' started successfully!\n",
      "Unity Academy name: Academy\n",
      "        Number of Brains: 1\n",
      "        Number of External Brains : 1\n",
      "        Lesson number : 0\n",
      "        Reset Parameters :\n",
      "\t\t\n",
      "Unity brain name: TennisBrain\n",
      "        Number of Visual Observations (per agent): 0\n",
      "        Vector Observation space type: continuous\n",
      "        Vector Observation space size (per agent): 8\n",
      "        Number of stacked Vector Observation: 3\n",
      "        Vector Action space type: continuous\n",
      "        Vector Action space size (per agent): 2\n",
      "        Vector Action descriptions: , \n"
     ]
    }
   ],
   "source": [
    "env = UnityEnvironment(file_name=\"./Tennis_Linux/Tennis.x86_64\")"
   ]
  },
  {
   "cell_type": "code",
   "execution_count": 3,
   "metadata": {},
   "outputs": [
    {
     "name": "stdout",
     "output_type": "stream",
     "text": [
      "Session 85d47dbc-438d-11e9-9e6b-0050b628e8ce - look for this name in Tensorboard logs.\n"
     ]
    }
   ],
   "source": [
    "use_tensorboard = True\n",
    "\n",
    "if use_tensorboard:\n",
    "    \n",
    "    import uuid\n",
    "    from tensorboardX import SummaryWriter\n",
    "    unique_str = str(uuid.uuid1())\n",
    "    print(\"Session {} - look for this name in Tensorboard logs.\".format(unique_str))\n",
    "    tensorboard_writer = SummaryWriter(\"./tensorboard_logs/{}\".format(unique_str))    \n",
    "else:\n",
    "    tensorboard_writer = None"
   ]
  },
  {
   "cell_type": "markdown",
   "metadata": {},
   "source": [
    "Environments contain **_brains_** which are responsible for deciding the actions of their associated agents. Here we check for the first brain available, and set it as the default brain we will be controlling from Python."
   ]
  },
  {
   "cell_type": "code",
   "execution_count": 4,
   "metadata": {},
   "outputs": [],
   "source": [
    "# get the default brain\n",
    "brain_name = env.brain_names[0]\n",
    "brain = env.brains[brain_name]"
   ]
  },
  {
   "cell_type": "markdown",
   "metadata": {},
   "source": [
    "### 2. Examine the State and Action Spaces\n",
    "\n",
    "In this environment, two agents control rackets to bounce a ball over a net. If an agent hits the ball over the net, it receives a reward of +0.1.  If an agent lets a ball hit the ground or hits the ball out of bounds, it receives a reward of -0.01.  Thus, the goal of each agent is to keep the ball in play.\n",
    "\n",
    "The observation space consists of 8 variables corresponding to the position and velocity of the ball and racket. Two continuous actions are available, corresponding to movement toward (or away from) the net, and jumping. \n",
    "\n",
    "Run the code cell below to print some information about the environment."
   ]
  },
  {
   "cell_type": "code",
   "execution_count": 5,
   "metadata": {},
   "outputs": [
    {
     "name": "stdout",
     "output_type": "stream",
     "text": [
      "Number of agents: 2\n",
      "Size of each action: 2\n",
      "There are 2 agents. Each observes a state with length: 24\n",
      "The state for the first agent looks like: [ 0.          0.          0.          0.          0.          0.\n",
      "  0.          0.          0.          0.          0.          0.\n",
      "  0.          0.          0.          0.         -6.65278625 -1.5\n",
      " -0.          0.          6.83172083  6.         -0.          0.        ]\n"
     ]
    }
   ],
   "source": [
    "# reset the environment\n",
    "env_info = env.reset(train_mode=True)[brain_name]\n",
    "\n",
    "# number of agents \n",
    "num_agents = len(env_info.agents)\n",
    "print('Number of agents:', num_agents)\n",
    "\n",
    "# size of each action\n",
    "action_size = brain.vector_action_space_size\n",
    "print('Size of each action:', action_size)\n",
    "\n",
    "# examine the state space \n",
    "states = env_info.vector_observations\n",
    "state_size = states.shape[1]\n",
    "print('There are {} agents. Each observes a state with length: {}'.format(states.shape[0], state_size))\n",
    "print('The state for the first agent looks like:', states[0])"
   ]
  },
  {
   "cell_type": "markdown",
   "metadata": {},
   "source": [
    "### 3. Take Random Actions in the Environment\n",
    "\n",
    "In the next code cell, you will learn how to use the Python API to control the agents and receive feedback from the environment.\n",
    "\n",
    "Once this cell is executed, you will watch the agents' performance, if they select actions at random with each time step.  A window should pop up that allows you to observe the agents.\n",
    "\n",
    "Of course, as part of the project, you'll have to change the code so that the agents are able to use their experiences to gradually choose better actions when interacting with the environment!"
   ]
  },
  {
   "cell_type": "code",
   "execution_count": 6,
   "metadata": {
    "scrolled": true
   },
   "outputs": [
    {
     "name": "stdout",
     "output_type": "stream",
     "text": [
      "Score (max over agents) from episode 1: 0.0\n",
      "Score (max over agents) from episode 2: 0.0\n",
      "Score (max over agents) from episode 3: 0.0\n",
      "Score (max over agents) from episode 4: 0.0\n",
      "Score (max over agents) from episode 5: 0.10000000149011612\n"
     ]
    }
   ],
   "source": [
    "for i in range(1, 6):                                      # play game for 5 episodes\n",
    "    env_info = env.reset(train_mode=False)[brain_name]     # reset the environment    \n",
    "    states = env_info.vector_observations                  # get the current state (for each agent)\n",
    "    scores = np.zeros(num_agents)                          # initialize the score (for each agent)\n",
    "    while True:\n",
    "        actions = np.random.randn(num_agents, action_size) # select an action (for each agent)\n",
    "        actions = np.clip(actions, -1, 1)                  # all actions between -1 and 1\n",
    "        env_info = env.step(actions)[brain_name]           # send all actions to tne environment\n",
    "        next_states = env_info.vector_observations         # get next state (for each agent)\n",
    "        rewards = env_info.rewards                         # get reward (for each agent)\n",
    "        dones = env_info.local_done                        # see if episode finished\n",
    "        scores += env_info.rewards                         # update the score (for each agent)\n",
    "        states = next_states                               # roll over states to next time step\n",
    "        if np.any(dones):                                  # exit loop if episode finished\n",
    "            break\n",
    "    print('Score (max over agents) from episode {}: {}'.format(i, np.max(scores)))"
   ]
  },
  {
   "cell_type": "markdown",
   "metadata": {},
   "source": [
    "When finished, you can close the environment."
   ]
  },
  {
   "cell_type": "markdown",
   "metadata": {},
   "source": [
    "### 4. It's Your Turn!\n",
    "\n",
    "Now it's your turn to train your own agent to solve the environment!  When training the environment, set `train_mode=True`, so that the line for resetting the environment looks like the following:\n",
    "```python\n",
    "env_info = env.reset(train_mode=True)[brain_name]\n",
    "```"
   ]
  },
  {
   "cell_type": "code",
   "execution_count": 7,
   "metadata": {},
   "outputs": [],
   "source": [
    "from maddpg_agent import MADDPG\n",
    "\n",
    "use_gpu = True\n",
    "gpu_id = 0\n",
    "device = torch.device('cuda:{}'.format(gpu_id)) if torch.cuda.is_available() else torch.device('cpu')\n",
    "update_every = 2\n",
    "batch_size = 256\n",
    "seed = 12345\n",
    "init_noise_scale = 1.0\n",
    "noise_annealing = 1.0 - 1e-3\n",
    "lr_actor=1e-4\n",
    "lr_critic=1e-4\n",
    "replay_buffer_size=int(1e4)\n",
    "tau = 1e-3\n",
    "gamma = 1.0\n",
    "\n",
    "meta_agent = MADDPG(\n",
    "        state_size,\n",
    "        action_size,\n",
    "        num_agents,\n",
    "        init_noise_scale=init_noise_scale,\n",
    "        noise_annealing=noise_annealing,\n",
    "        lr_actor=lr_actor,\n",
    "        lr_critic=lr_critic,\n",
    "        device=device,\n",
    "        replay_buffer_size=replay_buffer_size,\n",
    "        batch_size=batch_size,\n",
    "        seed=seed,\n",
    "        tau=tau,\n",
    "        gamma=gamma,\n",
    "        update_every=update_every,\n",
    "        tensorboard_writer=tensorboard_writer\n",
    ")"
   ]
  },
  {
   "cell_type": "code",
   "execution_count": 8,
   "metadata": {},
   "outputs": [],
   "source": [
    "num_episodes = 5000\n",
    "max_time_per_episode = 1000\n",
    "noise_scale = 1.0"
   ]
  },
  {
   "cell_type": "code",
   "execution_count": 9,
   "metadata": {},
   "outputs": [
    {
     "name": "stderr",
     "output_type": "stream",
     "text": [
      "/home/marek/anaconda3/envs/drlnd/lib/python3.6/site-packages/torch/nn/functional.py:995: UserWarning: nn.functional.tanh is deprecated. Use torch.tanh instead.\n",
      "  warnings.warn(\"nn.functional.tanh is deprecated. Use torch.tanh instead.\")\n"
     ]
    },
    {
     "name": "stdout",
     "output_type": "stream",
     "text": [
      "average score over 100 episodes: 0.019600000325590373\n",
      "average score over 100 episodes: 0.02350000036880374\n",
      "average score over 100 episodes: 0.02560000039637089\n",
      "average score over 100 episodes: 0.050400000773370264\n",
      "average score over 100 episodes: 0.05420000083744526\n",
      "average score over 100 episodes: 0.024200000427663328\n",
      "average score over 100 episodes: 0.006700000111013651\n",
      "average score over 100 episodes: 0.005000000074505806\n",
      "average score over 100 episodes: 0.0\n",
      "average score over 100 episodes: 0.0\n",
      "average score over 100 episodes: 0.004500000085681677\n",
      "average score over 100 episodes: 0.006500000115484\n",
      "average score over 100 episodes: 0.0488000007905066\n",
      "average score over 100 episodes: 0.05820000097155571\n",
      "average score over 100 episodes: 0.051100000869482756\n",
      "average score over 100 episodes: 0.05130000086501241\n",
      "average score over 100 episodes: 0.05990000097081065\n",
      "average score over 100 episodes: 0.07370000125840306\n",
      "average score over 100 episodes: 0.07300000116229058\n",
      "average score over 100 episodes: 0.06820000104606151\n",
      "average score over 100 episodes: 0.10690000167116523\n",
      "average score over 100 episodes: 0.1068000016734004\n",
      "average score over 100 episodes: 0.13520000204443933\n",
      "average score over 100 episodes: 0.15820000238716603\n",
      "average score over 100 episodes: 0.2029000031016767\n",
      "average score over 100 episodes: 0.2673000040464103\n",
      "average score over 100 episodes: 0.28450000429525973\n",
      "average score over 100 episodes: 0.3326000049710274\n",
      "average score over 100 episodes: 0.8171000122278929\n",
      "Environment solved in 2900 episodes\n"
     ]
    }
   ],
   "source": [
    "score_buffer = deque(maxlen=100)\n",
    "all_scores = []\n",
    "\n",
    "for i in range(num_episodes):\n",
    "    env_info = env.reset(train_mode=True)[brain_name]\n",
    "    meta_agent.reset()\n",
    "    states = env_info.vector_observations\n",
    "    scores = np.zeros(num_agents)\n",
    "    for j in range(max_time_per_episode):\n",
    "        actions = meta_agent.act(states, noise_scale=noise_scale, use_noise=True)\n",
    "        flat_actions = actions.reshape(1, -1)\n",
    "        env_info = env.step(flat_actions)[brain_name]\n",
    "        next_states = env_info.vector_observations\n",
    "        rewards = env_info.rewards\n",
    "        dones = env_info.local_done\n",
    "        scores += env_info.rewards\n",
    "        meta_agent.step(states, actions, rewards, next_states, dones)\n",
    "        states = next_states\n",
    "        if np.any(dones):            \n",
    "            break\n",
    "    max_score = np.max(scores)\n",
    "    score_buffer.append(max_score)\n",
    "    all_scores.append(max_score)\n",
    "    if i >= 100:     \n",
    "        if i % 20 == 0:\n",
    "            mean_score = np.mean(score_buffer)\n",
    "            tensorboard_writer.add_scalar(\"avg_score_100\", mean_score, i)\n",
    "            tensorboard_writer.file_writer.flush()\n",
    "        if i % 100 == 0:\n",
    "            mean_score = np.mean(score_buffer)\n",
    "            print(\"average score over 100 episodes: {}\".format(mean_score))\n",
    "            meta_agent.save()\n",
    "            if mean_score >= 0.5:\n",
    "                print(\"Environment solved in {} episodes\".format(i))\n",
    "                break"
   ]
  },
  {
   "cell_type": "code",
   "execution_count": 10,
   "metadata": {},
   "outputs": [
    {
     "data": {
      "image/png": "[encoded data removed]",
      "text/plain": [
       "<Figure size 432x288 with 1 Axes>"
      ]
     },
     "metadata": {
      "needs_background": "light"
     },
     "output_type": "display_data"
    }
   ],
   "source": [
    "# Show training progress\n",
    "\n",
    "def plot_scores(scores, rolling_window=100):\n",
    "    \"\"\"Plot scores and optional rolling mean using specified window.\"\"\"\n",
    "    plt.plot(scores); plt.title(\"Scores\");\n",
    "    rolling_mean = pd.Series(scores).rolling(rolling_window).mean()\n",
    "    plt.plot(rolling_mean)\n",
    "    plt.ylabel('Score')\n",
    "    plt.xlabel(\"Episode #\")\n",
    "    plt.show()    \n",
    "\n",
    "plot_scores(all_scores)"
   ]
  },
  {
   "cell_type": "code",
   "execution_count": 11,
   "metadata": {},
   "outputs": [],
   "source": [
    "# Release old agent from memory and show that we can\n",
    "# reload the checkpoint and perform inference\n",
    "\n",
    "meta_agent = MADDPG(\n",
    "        state_size,\n",
    "        action_size,\n",
    "        num_agents,\n",
    "        init_noise_scale=init_noise_scale,\n",
    "        noise_annealing=noise_annealing,\n",
    "        lr_actor=lr_actor,\n",
    "        lr_critic=lr_critic,\n",
    "        device=device,\n",
    "        replay_buffer_size=replay_buffer_size,\n",
    "        batch_size=batch_size,\n",
    "        seed=seed,\n",
    "        tau=tau,\n",
    "        gamma=gamma,\n",
    "        update_every=update_every,\n",
    "        tensorboard_writer=tensorboard_writer\n",
    ")\n",
    "\n",
    "for i, agent in enumerate(meta_agent.agents):\n",
    "    agent.actor_local.load_state_dict(torch.load(\"agent_{}_actor.pt\".format(i)))\n",
    "    agent.actor_local.eval()"
   ]
  },
  {
   "cell_type": "code",
   "execution_count": 12,
   "metadata": {},
   "outputs": [],
   "source": [
    "# Run 10 episodes of inference to watch \n",
    "# video of trained agents playing\n",
    "\n",
    "num_infer_episodes = 10\n",
    "\n",
    "for i in range(num_infer_episodes):\n",
    "    env_info = env.reset(train_mode=False)[brain_name]\n",
    "    meta_agent.reset()\n",
    "    states = env_info.vector_observations\n",
    "    scores = np.zeros(num_agents)\n",
    "    for j in range(max_time_per_episode):\n",
    "        actions = meta_agent.act(states, noise_scale=noise_scale, use_noise=False)\n",
    "        flat_actions = actions.reshape(1, -1)\n",
    "        env_info = env.step(flat_actions)[brain_name]\n",
    "        next_states = env_info.vector_observations\n",
    "        rewards = env_info.rewards\n",
    "        dones = env_info.local_done\n",
    "        scores += env_info.rewards\n",
    "        states = next_states\n",
    "        if np.any(dones):            \n",
    "            break"
   ]
  }
 ],
 "metadata": {
  "kernelspec": {
   "display_name": "Python 3",
   "language": "python",
   "name": "python3"
  },
  "language_info": {
   "codemirror_mode": {
    "name": "ipython",
    "version": 3
   },
   "file_extension": ".py",
   "mimetype": "text/x-python",
   "name": "python",
   "nbconvert_exporter": "python",
   "pygments_lexer": "ipython3",
   "version": "3.6.8"
  }
 },
 "nbformat": 4,
 "nbformat_minor": 2
}
